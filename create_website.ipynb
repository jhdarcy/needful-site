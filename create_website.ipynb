{
 "cells": [
  {
   "cell_type": "code",
   "execution_count": 1,
   "id": "bright-stability",
   "metadata": {},
   "outputs": [],
   "source": [
    "from needful import Presentation, Slide, CSSTheme"
   ]
  },
  {
   "cell_type": "raw",
   "id": "therapeutic-landscape",
   "metadata": {},
   "source": [
    "get_default_css(\"styling.css\")"
   ]
  },
  {
   "cell_type": "code",
   "execution_count": 2,
   "id": "genetic-reynolds",
   "metadata": {},
   "outputs": [],
   "source": [
    "center_theme = CSSTheme()\n",
    "center_theme[\"slide-margin-top\"] = \"0%\"\n",
    "center_theme[\"slide-title-position\"] = \"center\"\n",
    "center_theme[\"height-var\"] = \"100%\""
   ]
  },
  {
   "cell_type": "code",
   "execution_count": 17,
   "id": "sticky-correlation",
   "metadata": {},
   "outputs": [],
   "source": [
    "from json import dumps"
   ]
  },
  {
   "cell_type": "raw",
   "id": "executive-banana",
   "metadata": {},
   "source": [
    "<br>\n",
    "<center>`pip install needful`</center>"
   ]
  },
  {
   "cell_type": "markdown",
   "id": "suspended-multimedia",
   "metadata": {},
   "source": [
    "## Title Page"
   ]
  },
  {
   "cell_type": "code",
   "execution_count": 55,
   "id": "pediatric-grammar",
   "metadata": {},
   "outputs": [],
   "source": [
    "title_slide = Slide(\"\", 1, menu_title=\"<span class='menu-special'>needful</span>\", theme=center_theme)\n",
    "\n",
    "main_title_text = \"\"\"\n",
    "# needful\n",
    "\n",
    "Simple, lightweight, interactive HTML presentations for data scientists.\n",
    "\n",
    "<br><br>\n",
    "<p class=\"instructions\">\n",
    "Use your left/right arrow keys to navigate, or click the \n",
    "<i class=\"fas fa-chevron-left\"></i> <i class=\"fas fa-chevron-right\"></i> buttons.\n",
    "</p>\n",
    "\"\"\"\n",
    "\n",
    "title_slide.add_textbox(main_title_text, 1, 1)"
   ]
  },
  {
   "cell_type": "markdown",
   "id": "absent-yemen",
   "metadata": {},
   "source": [
    "## What is *needful*?"
   ]
  },
  {
   "cell_type": "code",
   "execution_count": 76,
   "id": "painted-davis",
   "metadata": {},
   "outputs": [],
   "source": [
    "needful_intro_slide = Slide(\"What is <i>needful?</i>\", 1)\n",
    "\n",
    "intro_text = \"\"\"\n",
    "* *needful* is a Python package for generating HTML presentations.\n",
    "\n",
    "<br><br><br>\n",
    "<center>`pip install needful`</center>\n",
    "\"\"\"\n",
    "\n",
    "needful_intro_slide.add_textbox(intro_text, 1, 1)\n"
   ]
  },
  {
   "cell_type": "code",
   "execution_count": 77,
   "id": "vital-student",
   "metadata": {},
   "outputs": [],
   "source": [
    "pres = Presentation(\"needful - simple HTML presentations\", css_file=\"styling.css\")\n",
    "\n",
    "pres_slides = [\n",
    "    title_slide,\n",
    "    needful_intro_slide\n",
    "]\n",
    "\n",
    "pres.add_slides(pres_slides)\n",
    "pres.generate_html(\"index.html\")\n"
   ]
  }
 ],
 "metadata": {
  "kernelspec": {
   "display_name": "Python 3",
   "language": "python",
   "name": "python3"
  },
  "language_info": {
   "codemirror_mode": {
    "name": "ipython",
    "version": 3
   },
   "file_extension": ".py",
   "mimetype": "text/x-python",
   "name": "python",
   "nbconvert_exporter": "python",
   "pygments_lexer": "ipython3",
   "version": "3.6.8"
  }
 },
 "nbformat": 4,
 "nbformat_minor": 5
}
