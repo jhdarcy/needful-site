{
 "cells": [
  {
   "cell_type": "code",
   "execution_count": 8,
   "id": "historic-arrow",
   "metadata": {},
   "outputs": [],
   "source": [
    "import matplotlib.pyplot as plt\n",
    "\n",
    "from needful import Presentation, Slide"
   ]
  },
  {
   "cell_type": "code",
   "execution_count": 20,
   "id": "designing-comfort",
   "metadata": {},
   "outputs": [
    {
     "data": {
      "text/plain": [
       "[<matplotlib.lines.Line2D at 0x13a454898>]"
      ]
     },
     "execution_count": 20,
     "metadata": {},
     "output_type": "execute_result"
    }
   ],
   "source": [
    "fig_1 = plt.Figure(figsize=(9,7))\n",
    "\n",
    "ax = fig_1.add_subplot()\n",
    "ax.plot([1,2,3])\n",
    "ax.plot([3,2,1])"
   ]
  },
  {
   "cell_type": "code",
   "execution_count": 21,
   "id": "dominant-disease",
   "metadata": {},
   "outputs": [],
   "source": [
    "title_page = Slide(\"Needful.fyi Placeholder\", 1)\n",
    "title_page.add_plot(fig_1, 1, 1, matplotlib_params=dict(format=\"svg\", bbox_inches=\"tight\"))"
   ]
  },
  {
   "cell_type": "code",
   "execution_count": 25,
   "id": "extra-astrology",
   "metadata": {},
   "outputs": [],
   "source": [
    "pres = Presentation(\"Needful\")\n",
    "pres.add_slide(title_page)\n",
    "pres.generate_html(\"index.html\")\n"
   ]
  }
 ],
 "metadata": {
  "kernelspec": {
   "display_name": "Python 3",
   "language": "python",
   "name": "python3"
  },
  "language_info": {
   "codemirror_mode": {
    "name": "ipython",
    "version": 3
   },
   "file_extension": ".py",
   "mimetype": "text/x-python",
   "name": "python",
   "nbconvert_exporter": "python",
   "pygments_lexer": "ipython3",
   "version": "3.6.8"
  }
 },
 "nbformat": 4,
 "nbformat_minor": 5
}
